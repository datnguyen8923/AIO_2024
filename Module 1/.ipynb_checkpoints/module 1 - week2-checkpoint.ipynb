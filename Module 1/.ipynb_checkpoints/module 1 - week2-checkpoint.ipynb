{
 "cells": [
  {
   "cell_type": "markdown",
   "id": "e2c7a284-7b2a-4973-8388-6708e95af0c4",
   "metadata": {},
   "source": [
    "Bài tự luận 1"
   ]
  },
  {
   "cell_type": "code",
   "execution_count": 1,
   "id": "e07f04af-2e70-406c-8f56-57c286f765d7",
   "metadata": {},
   "outputs": [
    {
     "name": "stdin",
     "output_type": "stream",
     "text": [
      "what's k?  3\n"
     ]
    },
    {
     "name": "stdout",
     "output_type": "stream",
     "text": [
      "[5, 5, 5, 5, 10, 12, 33, 33]\n"
     ]
    }
   ],
   "source": [
    "def slidingwindow(num_list):\n",
    "    sliding_list = []\n",
    "    intermediary_list = []\n",
    "    k = int(input(\"what's k? \"))\n",
    "    for i in range(len(num_list)-k+1):\n",
    "        intermediary_list = num_list[i:i+k]\n",
    "        sliding_list.append(max(intermediary_list))\n",
    "        intermediary_list.clear()\n",
    "    return sliding_list\n",
    "\n",
    "num_list = [3, 4, 5, 1, -44, 5, 10, 12, 33, 1]\n",
    "print(slidingwindow(num_list))\n",
    "    "
   ]
  },
  {
   "cell_type": "markdown",
   "id": "2dd5ec1d-32f8-4db0-94f9-d3aa7e03998b",
   "metadata": {},
   "source": [
    "Bài tự luận 2"
   ]
  },
  {
   "cell_type": "code",
   "execution_count": 2,
   "id": "f7fcdcb4-52e5-40b6-a13d-6d13c3b7d8b6",
   "metadata": {},
   "outputs": [
    {
     "data": {
      "text/plain": [
       "{'s': 2, 'm': 1, 'i': 1, 'l': 1, 'e': 1}"
      ]
     },
     "execution_count": 2,
     "metadata": {},
     "output_type": "execute_result"
    }
   ],
   "source": [
    "def count_chars(string):\n",
    "    chars_list = list(string)\n",
    "    dict1 = {}\n",
    "    for char in chars_list:\n",
    "        dict1[char] = chars_list.count(char)\n",
    "    return dict1\n",
    "\n",
    "count_chars('smiles')"
   ]
  },
  {
   "cell_type": "markdown",
   "id": "083b084c-c68a-401b-ac84-ed45b6ff68e3",
   "metadata": {},
   "source": [
    "Bài tự luận 3"
   ]
  },
  {
   "cell_type": "code",
   "execution_count": null,
   "id": "8585fed8-aba3-4e94-bc36-453da2b1fb7f",
   "metadata": {},
   "outputs": [],
   "source": [
    "!pip install gdown\n",
    "!gdown https://drive.google.com/uc?id=1IBScGdW2xlNsc9v5zSAya548kNgiOrko\n",
    "result = count_word ('C:/Users/DELL/Documents/AIO_2024/AIO_2024/Module 1/P1_data.txt')\n"
   ]
  },
  {
   "cell_type": "code",
   "execution_count": 8,
   "id": "6879d818-49c6-4805-b608-afe2a74263a4",
   "metadata": {},
   "outputs": [
    {
     "name": "stdout",
     "output_type": "stream",
     "text": [
      "6\n"
     ]
    }
   ],
   "source": [
    "def count_word(file_path):\n",
    "    \n",
    "    with open(file_path, 'r') as f:\n",
    "        sentences = f.read()\n",
    "    sentences = sentences.lower()\n",
    "    words = sentences.split()\n",
    "    counter = {}\n",
    "    for word in words:\n",
    "        counter[word] = words.count(word)\n",
    "    return counter\n",
    "\n",
    "file_path = 'C:/Users/DELL/Documents/AIO_2024/AIO_2024/Module 1/P1_data.txt'\n",
    "result = count_word(file_path)\n",
    "assert result ['who'] == 3\n",
    "print ( result ['man'])\n"
   ]
  },
  {
   "cell_type": "markdown",
   "id": "68bd7020-98d1-47b6-8e9b-3db0fd6f8c94",
   "metadata": {},
   "source": [
    "Bài 4"
   ]
  },
  {
   "cell_type": "code",
   "execution_count": 2,
   "id": "27614bec-1799-414a-bd4c-83d6ce1402b1",
   "metadata": {},
   "outputs": [
    {
     "name": "stdout",
     "output_type": "stream",
     "text": [
      "[[0, 1, 2, 3, 4, 5], [1, 0, 0, 0, 0, 0], [2, 0, 0, 0, 0, 0], [3, 0, 0, 0, 0, 0], [4, 0, 0, 0, 0, 0]]\n"
     ]
    }
   ],
   "source": [
    "def levenshtein(str1, str2):\n",
    "    table = [[0]*(len(str2)+1) for i in range (len(str1)+1)]\n",
    "\n",
    "    for t1 in range(len(str2)+1):\n",
    "        table[0][t1] = t1\n",
    "\n",
    "    for t2 in range(len(str1)+1):\n",
    "        table[t2][0] = t2\n",
    "\n",
    "    print(table)\n",
    "\n",
    "levenshtein('halo', 'hello')\n",
    "    "
   ]
  },
  {
   "cell_type": "markdown",
   "id": "496c2172-2d47-4bbf-bb97-1f2867e7e55b",
   "metadata": {},
   "source": [
    "Câu 6 trắc nghiệm"
   ]
  },
  {
   "cell_type": "code",
   "execution_count": 7,
   "id": "871718d9-d43f-491a-8fac-f72523a58f47",
   "metadata": {},
   "outputs": [
    {
     "name": "stdout",
     "output_type": "stream",
     "text": [
      "[2, 2, 2, 1, 1]\n"
     ]
    }
   ],
   "source": [
    "def my_function ( data , max , min) :\n",
    "    result = []\n",
    "    for i in data :\n",
    "        if i < min:\n",
    "            result.append(min)\n",
    "        elif i > max :\n",
    "            result.append(max)\n",
    "        else :\n",
    "            result.append(i)\n",
    "    return result\n",
    "my_list = [5 , 2 , 5 , 0 , 1]\n",
    "max1 = 1\n",
    "min1 = 0\n",
    "assert my_function (max1 = max1 , min = min , data = my_list ) == [1 , 1 , 1 , 0 , 1]\n",
    "my_list = [10 , 2 , 5 , 0 , 1]\n",
    "max1 = 2\n",
    "min1 = 1\n",
    "print ( my_function (max = max , min = min , data = my_list ) )"
   ]
  },
  {
   "cell_type": "markdown",
   "id": "0efb63da-b4ed-4e16-a54d-b8ce3b76d7df",
   "metadata": {},
   "source": [
    "Câu 7 trắc nghiệm"
   ]
  },
  {
   "cell_type": "code",
   "execution_count": 22,
   "id": "6e9ec8fa-ed9b-441c-86f2-7681e4fc8360",
   "metadata": {},
   "outputs": [
    {
     "name": "stdout",
     "output_type": "stream",
     "text": [
      "[1, 2, 3, 4, 0, 0]\n"
     ]
    }
   ],
   "source": [
    "def my_function(x, y):\n",
    "    x.extend(y)\n",
    "    return x\n",
    "\n",
    "list_num1 = ['a', 2, 5]\n",
    "list_num2 = [1, 1]\n",
    "list_num3 = [0, 0]\n",
    "my_function(list_num1, my_function(list_num2, list_num3))\n",
    "\n",
    "list_num1 = [1 , 2]\n",
    "list_num2 = [3 , 4]\n",
    "list_num3 = [0 , 0]\n",
    "\n",
    "print (my_function( list_num1 , my_function ( list_num2 , list_num3 ) ) )"
   ]
  },
  {
   "cell_type": "markdown",
   "id": "f5713452-61f7-46ed-8f22-b4343de5b19d",
   "metadata": {},
   "source": [
    "Câu 13 trắc nghiệm"
   ]
  },
  {
   "cell_type": "code",
   "execution_count": 34,
   "id": "750b958c-f5dc-41e3-b619-6a5b85437efc",
   "metadata": {},
   "outputs": [
    {
     "data": {
      "text/plain": [
       "24"
      ]
     },
     "execution_count": 34,
     "metadata": {},
     "output_type": "execute_result"
    }
   ],
   "source": [
    "def my_function(y):\n",
    "    var = 1\n",
    "    while y > 1:\n",
    "        var = var*y\n",
    "        y = y - 1\n",
    "    return var\n",
    "\n",
    "my_function(4)"
   ]
  },
  {
   "cell_type": "code",
   "execution_count": null,
   "id": "987348db-e85a-4045-a7e3-bb02e865fd72",
   "metadata": {},
   "outputs": [],
   "source": [
    "Câu 14 trắc nghiệm"
   ]
  },
  {
   "cell_type": "code",
   "execution_count": 38,
   "id": "90f3a71c-263f-407a-88eb-24c867bbc8c2",
   "metadata": {},
   "outputs": [
    {
     "data": {
      "text/plain": [
       "'tocirpa'"
      ]
     },
     "execution_count": 38,
     "metadata": {},
     "output_type": "execute_result"
    }
   ],
   "source": [
    "def my_function(x):\n",
    "    x = list(x)\n",
    "    x.reverse()\n",
    "    x = ''.join(x)\n",
    "    return x\n",
    "\n",
    "my_function('apricot')"
   ]
  },
  {
   "cell_type": "code",
   "execution_count": 40,
   "id": "5c1f5bec-da07-4038-acf1-5984bd6a5603",
   "metadata": {},
   "outputs": [
    {
     "name": "stdout",
     "output_type": "stream",
     "text": [
      "[9, 8, 1]\n"
     ]
    }
   ],
   "source": [
    "def function_helper(x, data):\n",
    "    for i in data:\n",
    "        if x == i:\n",
    "            return 0\n",
    "    else:\n",
    "        return 1\n",
    "\n",
    "def my_function(data):\n",
    "    res = []\n",
    "    for i in data:\n",
    "        if function_helper(i, res):\n",
    "            res.append(i)\n",
    "    return res\n",
    "\n",
    "lst = [10, 10, 9, 7, 7]\n",
    "assert my_function(lst) == [10, 9, 7]\n",
    "\n",
    "lst = [9, 9, 8, 1, 1]\n",
    "print(my_function(lst))"
   ]
  }
 ],
 "metadata": {
  "kernelspec": {
   "display_name": "Python 3 (ipykernel)",
   "language": "python",
   "name": "python3"
  },
  "language_info": {
   "codemirror_mode": {
    "name": "ipython",
    "version": 3
   },
   "file_extension": ".py",
   "mimetype": "text/x-python",
   "name": "python",
   "nbconvert_exporter": "python",
   "pygments_lexer": "ipython3",
   "version": "3.11.7"
  }
 },
 "nbformat": 4,
 "nbformat_minor": 5
}

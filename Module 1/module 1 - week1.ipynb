{
 "cells": [
  {
   "cell_type": "markdown",
   "id": "26fe62f2-5bb2-4348-b7b3-0ce8ea62cfcc",
   "metadata": {},
   "source": [
    "Bài 1: Viết function thực hiện đánh giá classification model bằng F1-Score"
   ]
  },
  {
   "cell_type": "code",
   "execution_count": 74,
   "id": "aef0a589-1df0-46ed-8423-77c4934e61f6",
   "metadata": {},
   "outputs": [
    {
     "name": "stdout",
     "output_type": "stream",
     "text": [
      "Precision is  0.3333333333333333\n",
      "Recall is  0.2857142857142857\n",
      "F1-score is  0.30769230769230765\n"
     ]
    }
   ],
   "source": [
    "def exercise1(tp, fp, fn):\n",
    "    if type(tp)!=int or type(fp)!=int or type(fn)!=int:\n",
    "        print('tp, fp and fn must be int')\n",
    "        return\n",
    "    elif tp<0 or fp<0 or fn<0:\n",
    "        print('tp, fp and fn must be greater than 0')\n",
    "        return \n",
    "    Precision = tp/(tp+fp)\n",
    "    recall = tp/(tp+fn)\n",
    "    F1_score = 2*(Precision*recall)/(Precision+recall)\n",
    "    print('Precision is ', Precision)\n",
    "    print('Recall is ', recall)\n",
    "    print('F1-score is ', F1_score)\n",
    "exercise1(2, 4, 5)"
   ]
  },
  {
   "cell_type": "markdown",
   "id": "6aa98fb2-cbec-4466-bbc1-32d1d8bd2f2d",
   "metadata": {},
   "source": [
    "Bài 2: Viết function mô phỏng theo 3 activation function"
   ]
  },
  {
   "cell_type": "code",
   "execution_count": 79,
   "id": "43da6b97-ecba-4f1b-a342-916162e4efd3",
   "metadata": {},
   "outputs": [
    {
     "name": "stdin",
     "output_type": "stream",
     "text": [
      "input x = ? 3\n",
      "Input activation function (sigmoid|relu|elu):  sigmoid\n"
     ]
    },
    {
     "name": "stdout",
     "output_type": "stream",
     "text": [
      "sigmoid: f(3.0) = 0.9525741268224331\n"
     ]
    }
   ],
   "source": [
    "import math\n",
    "   \n",
    "def is_number(n):\n",
    "    try:\n",
    "        float(n)    # Type - casting the string to ‘float ‘.\n",
    "                    # If string is not a valid ‘float ‘ ,\n",
    "                    # it ’ll raise ‘ValueError ‘ exception\n",
    "    except ValueError :\n",
    "        return False\n",
    "    return True\n",
    "\n",
    "def calc_sig(x):\n",
    "    result = 1/(1+math.e**(-x))\n",
    "    return result \n",
    "\n",
    "def calc_relu(x):\n",
    "    if x<0:\n",
    "        result = 0\n",
    "    else: \n",
    "        result = x\n",
    "    return result\n",
    "def calc_elu(x):\n",
    "    alpha = 0.01\n",
    "    if x<0:\n",
    "        result = alpha*(math.e**x-1)\n",
    "    else:\n",
    "        result = x\n",
    "    return result\n",
    "\n",
    "def calc_activation_function(x, act_name):\n",
    "    result = None\n",
    "    if act_name == 'sigmoid':\n",
    "        result = calc_sig(x)\n",
    "    if act_name == 'relu':\n",
    "        result = calc_relu(x)\n",
    "    if act_name == 'elu':\n",
    "        result = calc_elu(x)\n",
    "    return result\n",
    "    \n",
    "def exercise2():\n",
    "    x = input(\"input x = ?\")\n",
    "    if not is_number(x):\n",
    "        print('x must be a number')\n",
    "        return\n",
    "\n",
    "    act_name = input('Input activation function (sigmoid|relu|elu): ')\n",
    "    x = float(x)\n",
    "    result = calc_activation_function(x, act_name)\n",
    "    if result is None:\n",
    "        print(act_name, 'is not suported')\n",
    "    else:\n",
    "        print(f'{act_name}: f({x}) = {result}')\n",
    "\n",
    "exercise2()"
   ]
  },
  {
   "cell_type": "markdown",
   "id": "fd6474fe-1d33-41fb-b5e2-1b6f4d152519",
   "metadata": {},
   "source": [
    "Bài 3: Viết function lựa chọn loss regression"
   ]
  },
  {
   "cell_type": "code",
   "execution_count": 51,
   "id": "3cc1f70a-e78a-4a03-806d-141b70e5d0cf",
   "metadata": {},
   "outputs": [
    {
     "name": "stdin",
     "output_type": "stream",
     "text": [
      "input number of samples?  6\n",
      "input regression_loss_function (MSE|MAE|RMSE) MSE\n"
     ]
    },
    {
     "name": "stdout",
     "output_type": "stream",
     "text": [
      "target is 0.6392265004754222\n",
      "predict is 0.35740583109119906\n",
      "target is 0.6133171772751322\n",
      "predict is 0.35490448927553453\n",
      "target is 0.3363716777480308\n",
      "predict is 0.8684665531579935\n",
      "target is 0.2363578763911931\n",
      "predict is 0.9107965829222636\n",
      "target is 0.6446256427139399\n",
      "predict is 0.8722554908971454\n",
      "target is 0.7312584553433666\n",
      "predict is 0.9496874638183996\n",
      "MSE = 0.16395318530724853\n"
     ]
    }
   ],
   "source": [
    "import random\n",
    "import math\n",
    "\n",
    "def MAE(n):\n",
    "    mae = 0\n",
    "    for i in range(n):\n",
    "        y = random.random()\n",
    "        y_hat = random.random()\n",
    "        print(f'target is {y}')\n",
    "        print(f'predict is {y_hat}')\n",
    "        abs_error = abs(y - y_hat)\n",
    "        mae = mae + abs_error\n",
    "    mae = mae/n\n",
    "    return mae\n",
    "\n",
    "def MSE(n):\n",
    "    mse = 0\n",
    "    for i in range(n):\n",
    "        y = random.random()\n",
    "        y_hat = random.random()\n",
    "        print(f'target is {y}')\n",
    "        print(f'predict is {y_hat}')\n",
    "        abs_error = abs(y - y_hat)\n",
    "        abs_error = abs_error**2\n",
    "        mse = mse + abs_error\n",
    "    mse = mse/n\n",
    "    return mse\n",
    "\n",
    "def RMSE(n):\n",
    "    rmse = 0\n",
    "    for i in range(n):\n",
    "        y = random.random()\n",
    "        y_hat = random.random()\n",
    "        print(f'target is {y}')\n",
    "        print(f'predict is {y_hat}')\n",
    "        abs_error = abs(y - y_hat)\n",
    "        abs_error = abs_error**2\n",
    "        rmse = rmse + abs_error\n",
    "    rmse = rmse/n\n",
    "    rmse = math.sqrt(rmse)\n",
    "    return rmse\n",
    "\n",
    "def is_numeric(n):\n",
    "    try:\n",
    "        int(n)      # Type - casting the string to ‘int ‘.\n",
    "                    # If string is not a valid ‘int ‘ ,\n",
    "                    # it ’ll raise ‘ValueError ‘ exception\n",
    "    except ValueError :\n",
    "        return False\n",
    "    return True\n",
    "\n",
    "def regression_loss_func(n, act_name):\n",
    "    result = None\n",
    "    if act_name == 'MSE':\n",
    "        result = MSE(n)\n",
    "    if act_name == 'MAE':\n",
    "        result = MAE(n)\n",
    "    if act_name == 'RMSE':\n",
    "        result = RMSE(n)\n",
    "    return result\n",
    "\n",
    "def exercise3():\n",
    "    n = input('input number of samples? ')\n",
    "    if not is_numeric(n):\n",
    "        print('number of samples must be an int')\n",
    "        return\n",
    "    n = int(n)\n",
    "    act_name = input('input regression_loss_function (MSE|MAE|RMSE)')\n",
    "    result = regression_loss_func(n, act_name)\n",
    "    if result is None:\n",
    "        print(act_name, 'is not supported')\n",
    "    else:\n",
    "        print(f'{act_name} = {result}')\n",
    "\n",
    "exercise3()"
   ]
  },
  {
   "cell_type": "markdown",
   "id": "5e86a4f2-e7c7-45ce-8e3e-86bc7b38ca12",
   "metadata": {},
   "source": [
    "Bài 4: viết 4 functions để ước lượng các hàm số sau"
   ]
  },
  {
   "cell_type": "code",
   "execution_count": 91,
   "id": "5a0c2c30-63d4-423d-aaec-4f2da3213542",
   "metadata": {},
   "outputs": [
    {
     "data": {
      "text/plain": [
       "11.573574824666185"
      ]
     },
     "execution_count": 91,
     "metadata": {},
     "output_type": "execute_result"
    }
   ],
   "source": [
    "def sin(n, x=3.14):\n",
    "    sin = 0\n",
    "    for i in range(n):\n",
    "        TS = x**(2*i+1)\n",
    "        MS = 1\n",
    "        for b in range(1, 2*i+2):\n",
    "            MS = MS*b\n",
    "        result = (-1)**i * TS / MS\n",
    "        sin = sin + result\n",
    "    return sin\n",
    "\n",
    "def cos(n, x=3.14):\n",
    "    cos = 0\n",
    "    for i in range(n):\n",
    "        TS = x**(2*i)\n",
    "        MS = 1\n",
    "        for b in range(2, 2*i+1):\n",
    "            MS = MS*b\n",
    "        result = (-1)**i * TS / MS\n",
    "        cos = cos + result\n",
    "    return cos\n",
    "\n",
    "def sinh(n, x=3.14):\n",
    "    sinh = 0\n",
    "    for i in range(n):\n",
    "        TS = x**(2*i+1)\n",
    "        MS = 1\n",
    "        for b in range(1, 2*i+2):\n",
    "            MS = MS*b\n",
    "        result = TS / MS\n",
    "        sinh = sinh + result\n",
    "    return sinh\n",
    "\n",
    "def cosh(n, x=3.14):\n",
    "    cosh = 0 \n",
    "    for i in range(n):\n",
    "        TS = x**(2*i)\n",
    "        MS = 1\n",
    "        for b in range(2, 2*i+1):\n",
    "            MS = MS*b\n",
    "        result = TS / MS\n",
    "        cosh = cosh + result\n",
    "    return cosh\n",
    "cosh(10, x=3.14)"
   ]
  },
  {
   "cell_type": "markdown",
   "id": "2960a324-6e95-46e8-9648-80666b67475d",
   "metadata": {},
   "source": [
    "Bài 5: "
   ]
  },
  {
   "cell_type": "code",
   "execution_count": 94,
   "id": "78bccdce-743d-49a0-91d7-de28c2681270",
   "metadata": {},
   "outputs": [
    {
     "data": {
      "text/plain": [
       "0.02633403898972407"
      ]
     },
     "execution_count": 94,
     "metadata": {},
     "output_type": "execute_result"
    }
   ],
   "source": [
    "def md_nre_single_sample2 (y , y_hat , n , p ) :\n",
    "    y_root = y ** (1/ n )\n",
    "    y_hat_root = y_hat ** (1/ n )\n",
    "    difference = y_root - y_hat_root\n",
    "    loss = difference ** p\n",
    "    return loss\n",
    "md_nre_single_sample2 (10, 9, 2, 2)"
   ]
  }
 ],
 "metadata": {
  "kernelspec": {
   "display_name": "Python 3 (ipykernel)",
   "language": "python",
   "name": "python3"
  },
  "language_info": {
   "codemirror_mode": {
    "name": "ipython",
    "version": 3
   },
   "file_extension": ".py",
   "mimetype": "text/x-python",
   "name": "python",
   "nbconvert_exporter": "python",
   "pygments_lexer": "ipython3",
   "version": "3.11.7"
  }
 },
 "nbformat": 4,
 "nbformat_minor": 5
}

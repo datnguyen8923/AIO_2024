{
 "cells": [
  {
   "cell_type": "markdown",
   "id": "0bb58e18-275d-46b9-8f7b-66405ce3785b",
   "metadata": {},
   "source": [
    "### 1. Image Processing"
   ]
  },
  {
   "cell_type": "code",
   "execution_count": 5,
   "id": "18c06322-21e1-4f5f-95e2-688b98043d48",
   "metadata": {},
   "outputs": [
    {
     "name": "stderr",
     "output_type": "stream",
     "text": [
      "Downloading...\n",
      "From: https://drive.google.com/uc?id=1i9dqan21DjQoG5Q_VEvm0LrVwAlXD0vB\n",
      "To: C:\\Users\\DELL\\Documents\\AIO_2024\\AIO_2024\\Module 2\\dog.jpeg\n",
      "\n",
      "  0%|          | 0.00/33.7k [00:00<?, ?B/s]\n",
      "100%|##########| 33.7k/33.7k [00:00<00:00, 681kB/s]\n"
     ]
    }
   ],
   "source": [
    "! gdown 1i9dqan21DjQoG5Q_VEvm0LrVwAlXD0vB"
   ]
  },
  {
   "cell_type": "code",
   "execution_count": 18,
   "id": "fa09f373-63f2-4ef4-b8b4-ba7f454f9c3a",
   "metadata": {},
   "outputs": [
    {
     "name": "stdout",
     "output_type": "stream",
     "text": [
      "Giá trị pixel tại vị trí (0, 0): 102.5\n"
     ]
    }
   ],
   "source": [
    "import matplotlib.image as mpimg\n",
    "import numpy as np\n",
    "\n",
    "# Đọc ảnh từ đường dẫn\n",
    "img = mpimg.imread('C:/Users/DELL/Documents/AIO_2024/AIO_2024/Module 2/dog.jpeg')\n",
    "\n",
    "# Tính giá trị trung bình của độ sáng (intensity) của ảnh\n",
    "gray_img_01 = (np.max(img, axis = 2) + np.min(img, axis = 2)) / 2\n",
    "\n",
    "# Truy cập giá trị pixel tại vị trí (0, 0)\n",
    "gray_img_01[0, 0]"
   ]
  },
  {
   "cell_type": "code",
   "execution_count": 20,
   "id": "43d6a2ef-11ea-40fa-94b6-dfcbd37991a6",
   "metadata": {},
   "outputs": [
    {
     "data": {
      "text/plain": [
       "107.66666666666667"
      ]
     },
     "execution_count": 20,
     "metadata": {},
     "output_type": "execute_result"
    }
   ],
   "source": [
    "gray_img_02 = np.sum(img, axis = 2)/3\n",
    "gray_img_02[0, 0]"
   ]
  },
  {
   "cell_type": "code",
   "execution_count": 23,
   "id": "d8f00bed-089e-4c75-913d-1c7f68ea0da7",
   "metadata": {},
   "outputs": [
    {
     "data": {
      "text/plain": [
       "118.78999999999999"
      ]
     },
     "execution_count": 23,
     "metadata": {},
     "output_type": "execute_result"
    }
   ],
   "source": [
    "gray_img_03 = img[0]*0.21 + img[1]*0.72 + img[2]*0.07\n",
    "gray_img_03[0 , 0]"
   ]
  },
  {
   "cell_type": "markdown",
   "id": "67869faf-af5d-42a0-ba3a-910e01fc121f",
   "metadata": {},
   "source": [
    "### 2. Tabular Data"
   ]
  },
  {
   "cell_type": "code",
   "execution_count": 26,
   "id": "557b50af-2749-4897-9f3d-d06f10f1560e",
   "metadata": {},
   "outputs": [
    {
     "name": "stderr",
     "output_type": "stream",
     "text": [
      "Downloading...\n",
      "From: https://drive.google.com/uc?id=1iA0WmVfW88HyJvTBSQDI5vesf-pgKabq\n",
      "To: C:\\Users\\DELL\\Documents\\AIO_2024\\AIO_2024\\Module 2\\advertising.csv\n",
      "\n",
      "  0%|          | 0.00/4.06k [00:00<?, ?B/s]\n",
      "100%|##########| 4.06k/4.06k [00:00<?, ?B/s]\n"
     ]
    }
   ],
   "source": [
    "!gdown 1iA0WmVfW88HyJvTBSQDI5vesf-pgKabq"
   ]
  },
  {
   "cell_type": "code",
   "execution_count": 28,
   "id": "d45638f1-c750-40cc-8e62-036bb46bacad",
   "metadata": {},
   "outputs": [
    {
     "name": "stdout",
     "output_type": "stream",
     "text": [
      "        TV  Radio  Newspaper  Sales\n",
      "0    230.1   37.8       69.2   22.1\n",
      "1     44.5   39.3       45.1   10.4\n",
      "2     17.2   45.9       69.3   12.0\n",
      "3    151.5   41.3       58.5   16.5\n",
      "4    180.8   10.8       58.4   17.9\n",
      "..     ...    ...        ...    ...\n",
      "195   38.2    3.7       13.8    7.6\n",
      "196   94.2    4.9        8.1   14.0\n",
      "197  177.0    9.3        6.4   14.8\n",
      "198  283.6   42.0       66.2   25.5\n",
      "199  232.1    8.6        8.7   18.4\n",
      "\n",
      "[200 rows x 4 columns]\n"
     ]
    }
   ],
   "source": [
    "import pandas as pd\n",
    "\n",
    "df = pd.read_csv('C:/Users/DELL/Documents/AIO_2024/AIO_2024/Module 2/advertising.csv')\n",
    "print(df)\n",
    "\n",
    "data = df.to_numpy()"
   ]
  },
  {
   "cell_type": "code",
   "execution_count": 43,
   "id": "a66dbf9f-8157-4884-97b8-57c17a9629a0",
   "metadata": {},
   "outputs": [
    {
     "name": "stdout",
     "output_type": "stream",
     "text": [
      "27.0 (array([174], dtype=int64),)\n"
     ]
    }
   ],
   "source": [
    "max_sales = data[1:, 3].max()\n",
    "indices = np.where(data[1:, 3] == max_sales)\n",
    "print(max_sales, indices)"
   ]
  },
  {
   "cell_type": "code",
   "execution_count": 56,
   "id": "8e72ebc6-41e4-45fa-9eba-e0d018ae1321",
   "metadata": {},
   "outputs": [
    {
     "data": {
      "text/plain": [
       "147.0425"
      ]
     },
     "execution_count": 56,
     "metadata": {},
     "output_type": "execute_result"
    }
   ],
   "source": [
    "mean_tv = data[0:, 0].mean()\n",
    "mean_tv"
   ]
  },
  {
   "cell_type": "code",
   "execution_count": 52,
   "id": "4bc9c5ab-0366-4702-ac39-ee764b86e99c",
   "metadata": {},
   "outputs": [
    {
     "data": {
      "text/plain": [
       "40"
      ]
     },
     "execution_count": 52,
     "metadata": {},
     "output_type": "execute_result"
    }
   ],
   "source": [
    "count = []\n",
    "for i in data[:, 3]:\n",
    "    if i >=20:\n",
    "        count.append(i)\n",
    "    else:\n",
    "        continue\n",
    "len(count)"
   ]
  },
  {
   "cell_type": "code",
   "execution_count": 60,
   "id": "17b7ac0c-7cb1-4257-adff-8a0dd3afca12",
   "metadata": {},
   "outputs": [
    {
     "data": {
      "text/plain": [
       "26.222935779816517"
      ]
     },
     "execution_count": 60,
     "metadata": {},
     "output_type": "execute_result"
    }
   ],
   "source": [
    "sales_cond = data[:, 3] >= 15\n",
    "radio_mean = np.sum(data[:,1]*sales_cond, axis = 0)/np.sum(sales_cond)\n",
    "radio_mean"
   ]
  },
  {
   "cell_type": "code",
   "execution_count": 63,
   "id": "bd8fc33b-a7ad-4e4a-8a19-e060a87f2c72",
   "metadata": {},
   "outputs": [
    {
     "data": {
      "text/plain": [
       "1405.1"
      ]
     },
     "execution_count": 63,
     "metadata": {},
     "output_type": "execute_result"
    }
   ],
   "source": [
    "news_cond = data[:,2] > np.mean(data[:, 2])\n",
    "sum_sales = np.sum(data[:, 3] * news_cond)\n",
    "sum_sales"
   ]
  },
  {
   "cell_type": "code",
   "execution_count": 74,
   "id": "da7e92e8-29c6-465d-8d86-25ac8d11d080",
   "metadata": {},
   "outputs": [
    {
     "data": {
      "text/plain": [
       "array(['Bad', 'Bad', 'Good'], dtype='<U7')"
      ]
     },
     "execution_count": 74,
     "metadata": {},
     "output_type": "execute_result"
    }
   ],
   "source": [
    "sales_mean = np.mean(data[:, 3])\n",
    "\n",
    "Score = np.where(data[:, 3] > sales_mean, \"Good\", np.where(data[:,3] < sales_mean, \"Bad\", \"Average\"))\n",
    "Score[7:10]"
   ]
  },
  {
   "cell_type": "code",
   "execution_count": 78,
   "id": "da76503e-b196-46a3-8598-221a4f47b9a9",
   "metadata": {},
   "outputs": [
    {
     "name": "stdout",
     "output_type": "stream",
     "text": [
      "[ 6.9695  4.7305  3.1305  1.3695  2.7695  7.9305  3.3305  1.9305 10.3305\n",
      "  0.4695  2.5305  2.2695  5.9305  1.4305  3.8695  7.2695  2.6305  9.2695\n",
      "  3.8305  0.5305  2.8695  2.3695  9.5305  5.3695  5.4305  1.8695  0.1305\n",
      "  5.7695  3.7695  4.6305  6.2695  3.2305  1.9305  2.2695  3.2305  2.6695\n",
      " 10.2695  0.4305  5.0305  6.3695  1.4695  1.9695  5.5695  2.7695  6.6305\n",
      "  0.9695  4.5305  8.0695  4.6695  5.4305  1.2695  4.4305  7.4695  6.0695\n",
      "  5.0695  8.5695  9.6305  1.9305  8.6695  3.2695  7.0305  9.0695  5.5695\n",
      "  1.1305  0.8695  3.8305  4.1305  1.7305  3.7695  7.1695  3.1695  2.7305\n",
      "  6.3305  4.1305  1.8695  6.4305  8.2305  0.9305  9.8305  4.1305  3.3305\n",
      "  2.1695  3.8305  1.5305  6.5695  5.0695  3.1305  0.8695  2.2305  1.5695\n",
      "  1.1305  7.8305  4.2695  7.0695  3.6305  1.7695  1.5695  5.3695 10.2695\n",
      "  2.0695  1.5695  8.6695  4.6695  4.5695  5.5695  0.1305  7.9305  3.1305\n",
      "  9.8305  4.6695  3.2695  6.6695  1.9695  5.7695  0.5305  2.5305  2.9305\n",
      "  5.7305  0.7695  8.5305  0.3695  8.1305  1.4695  0.0695  4.5695  4.5305\n",
      "  8.5305  3.2305  9.5695  5.4305 13.5305  2.5695  9.4305  4.4695  4.3305\n",
      "  3.5305  5.6305  5.6695  5.5305  5.5695  4.2305  4.0695  4.9695  4.7305\n",
      "  2.8305  4.8305  3.0695 10.2695  4.2305  5.0305  0.9695  3.5305  1.4695\n",
      "  0.8695  5.4695 11.9305  0.1695  5.0305  7.8305  2.2305  1.2695  1.8305\n",
      "  4.7695  2.8695  3.2305  1.7695  7.1305  2.0695  1.9695  4.8695  6.7305\n",
      "  2.3695  7.5305  1.5695  1.3695 11.8695  5.0695  1.5695  1.6695  2.4695\n",
      "  0.3695  2.0695  6.4305 11.0695  2.4695  7.4695  4.8305  2.1695  5.7695\n",
      "  8.4305  4.3305  3.2305  9.2305  4.4695  2.1695  7.5305  1.1305  0.3305\n",
      " 10.3695  3.2695]\n"
     ]
    },
    {
     "data": {
      "text/plain": [
       "array(['Bad', 'Bad', 'Good'], dtype='<U7')"
      ]
     },
     "execution_count": 78,
     "metadata": {},
     "output_type": "execute_result"
    }
   ],
   "source": [
    "sales_mean = np.mean(data[:, 3])\n",
    "sales_mean_dif = np.abs(data[:, 3] - sales_mean)\n",
    "print(sales_mean_dif)\n",
    "i = np.argmin(sales_mean_dif)\n",
    "\n",
    "Scores = np.where(data[:, 3] > data[i, 3], \"Good\", np.where(data[:, 3] < data[i, 3], \"Bad\", \"Average\"))\n",
    "\n",
    "Scores[7:10]"
   ]
  }
 ],
 "metadata": {
  "kernelspec": {
   "display_name": "Python 3 (ipykernel)",
   "language": "python",
   "name": "python3"
  },
  "language_info": {
   "codemirror_mode": {
    "name": "ipython",
    "version": 3
   },
   "file_extension": ".py",
   "mimetype": "text/x-python",
   "name": "python",
   "nbconvert_exporter": "python",
   "pygments_lexer": "ipython3",
   "version": "3.11.7"
  }
 },
 "nbformat": 4,
 "nbformat_minor": 5
}
